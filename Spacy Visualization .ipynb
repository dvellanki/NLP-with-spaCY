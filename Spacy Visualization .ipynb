{
 "cells": [
  {
   "cell_type": "code",
   "execution_count": 1,
   "id": "8337ba6d",
   "metadata": {},
   "outputs": [],
   "source": [
    "import spacy\n",
    "from spacy.lang.en import English\n",
    "import pandas as pd"
   ]
  },
  {
   "cell_type": "markdown",
   "id": "b7a0a7ff",
   "metadata": {},
   "source": [
    "### Text Comparison with spaCy and Scattertext"
   ]
  },
  {
   "cell_type": "code",
   "execution_count": 8,
   "id": "24f3f4ce",
   "metadata": {},
   "outputs": [],
   "source": [
    "import scattertext as st\n",
    "nlp = spacy.load(\"en_core_web_sm\")"
   ]
  },
  {
   "cell_type": "markdown",
   "id": "f6dc9862",
   "metadata": {},
   "source": [
    "#### Analyzing text data from the party conventions during the 2012 US Presidential elections "
   ]
  },
  {
   "cell_type": "code",
   "execution_count": 13,
   "id": "ad93346f",
   "metadata": {},
   "outputs": [
    {
     "name": "stdout",
     "output_type": "stream",
     "text": [
      "[nltk_data] Downloading package wordnet to\n",
      "[nltk_data]     C:\\Users\\dvellanki\\AppData\\Roaming\\nltk_data...\n",
      "[nltk_data]   Package wordnet is already up-to-date!\n"
     ]
    },
    {
     "data": {
      "text/plain": [
       "True"
      ]
     },
     "execution_count": 13,
     "metadata": {},
     "output_type": "execute_result"
    }
   ],
   "source": [
    "import nltk\n",
    "nltk.download(\"wordnet\")"
   ]
  },
  {
   "cell_type": "code",
   "execution_count": 14,
   "id": "4a066bfb",
   "metadata": {},
   "outputs": [
    {
     "name": "stdout",
     "output_type": "stream",
     "text": [
      "before ['tok2vec', 'tagger', 'parser', 'attribute_ruler', 'lemmatizer', 'ner']\n",
      "after ['tok2vec', 'tagger', 'spacy_wordnet', 'parser', 'attribute_ruler', 'lemmatizer', 'ner']\n"
     ]
    }
   ],
   "source": [
    "## Customizing the pipeline\n",
    "from spacy_wordnet.wordnet_annotator import WordnetAnnotator\n",
    "print(\"before\", nlp.pipe_names)\n",
    "if \"WordnetAnnotator\" not in nlp.pipe_names:\n",
    "    nlp.add_pipe(\"spacy_wordnet\", after=\"tagger\")\n",
    "    print(\"after\", nlp.pipe_names)"
   ]
  },
  {
   "cell_type": "code",
   "execution_count": 16,
   "id": "401c0db2",
   "metadata": {},
   "outputs": [],
   "source": [
    "if \"merge_entities\" not in nlp.pipe_names:\n",
    "    nlp.add_pipe(\"merge_entities\")\n",
    "\n",
    "if \"merge_noun_chunks\" not in nlp.pipe_names:\n",
    "    nlp.add_pipe(\"merge_noun_chunks\")\n",
    "\n",
    "convention_df = st.SampleCorpora.ConventionData2012.get_data()\n",
    "corpus = st.CorpusFromPandas(convention_df, category_col=\"party\", text_col=\"text\", nlp=nlp).build()"
   ]
  },
  {
   "cell_type": "markdown",
   "id": "819ab1a1",
   "metadata": {},
   "source": [
    "#### Generate interactive visualization in HTML "
   ]
  },
  {
   "cell_type": "code",
   "execution_count": 17,
   "id": "484e3665",
   "metadata": {},
   "outputs": [],
   "source": [
    "html = st.produce_scattertext_explorer(corpus, category=\"democrat\", \n",
    "                                       category_name=\"Democratic\",\n",
    "                                       not_category_name=\"Republican\",\n",
    "                                       width_in_pixels=1000,\n",
    "                                       metadata=convention_df[\"speaker\"])"
   ]
  },
  {
   "cell_type": "code",
   "execution_count": 18,
   "id": "7bf94934",
   "metadata": {},
   "outputs": [
    {
     "data": {
      "text/html": [
       "\n",
       "        <iframe\n",
       "            width=\"1200\"\n",
       "            height=\"700\"\n",
       "            src=\"foo.html\"\n",
       "            frameborder=\"0\"\n",
       "            allowfullscreen\n",
       "        ></iframe>\n",
       "        "
      ],
      "text/plain": [
       "<IPython.lib.display.IFrame at 0x126377f07c0>"
      ]
     },
     "execution_count": 18,
     "metadata": {},
     "output_type": "execute_result"
    }
   ],
   "source": [
    "## Render the HTML\n",
    "from IPython.display import IFrame\n",
    "\n",
    "file_name = \"foo.html\"\n",
    "\n",
    "with open(file_name, \"wb\") as f:\n",
    "    f.write(html.encode(\"utf-8\"))\n",
    "\n",
    "IFrame(src=file_name, width = 1200, height=700)"
   ]
  },
  {
   "cell_type": "code",
   "execution_count": null,
   "id": "b8eb5e36",
   "metadata": {},
   "outputs": [],
   "source": []
  }
 ],
 "metadata": {
  "kernelspec": {
   "display_name": "Python 3 (ipykernel)",
   "language": "python",
   "name": "python3"
  },
  "language_info": {
   "codemirror_mode": {
    "name": "ipython",
    "version": 3
   },
   "file_extension": ".py",
   "mimetype": "text/x-python",
   "name": "python",
   "nbconvert_exporter": "python",
   "pygments_lexer": "ipython3",
   "version": "3.9.6"
  }
 },
 "nbformat": 4,
 "nbformat_minor": 5
}
